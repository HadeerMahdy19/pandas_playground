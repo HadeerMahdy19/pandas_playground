{
  "nbformat": 4,
  "nbformat_minor": 0,
  "metadata": {
    "colab": {
      "name": "Clean dataset.ipynb",
      "provenance": [],
      "collapsed_sections": [],
      "authorship_tag": "ABX9TyOoC4sLr/sAdsppuGJsKoDx",
      "include_colab_link": true
    },
    "kernelspec": {
      "name": "python3",
      "display_name": "Python 3"
    },
    "language_info": {
      "name": "python"
    }
  },
  "cells": [
    {
      "cell_type": "markdown",
      "metadata": {
        "id": "view-in-github",
        "colab_type": "text"
      },
      "source": [
        "<a href=\"https://colab.research.google.com/github/HadeerMahdy19/pandas_playground/blob/main/Clean_dataset.ipynb\" target=\"_parent\"><img src=\"https://colab.research.google.com/assets/colab-badge.svg\" alt=\"Open In Colab\"/></a>"
      ]
    },
    {
      "cell_type": "code",
      "execution_count": 8,
      "metadata": {
        "id": "nW1Os3MYPK7w"
      },
      "outputs": [],
      "source": [
        "import pandas as pd\n",
        "import numpy as np\n",
        "import matplotlib.pyplot as plt\n",
        "import warnings\n",
        "warnings.filterwarnings(\"ignore\")"
      ]
    },
    {
      "cell_type": "markdown",
      "source": [
        "### 1- Read file from my workspace "
      ],
      "metadata": {
        "id": "WKYGlQb-P7Ar"
      }
    },
    {
      "cell_type": "code",
      "source": [
        "data_path = '/content/sample_data/countries of the world.csv'  \n",
        "df = pd.read_csv(data_path ,decimal=',')\n",
        "\n",
        "print('The shape of the dataset is:', df.shape)"
      ],
      "metadata": {
        "colab": {
          "base_uri": "https://localhost:8080/"
        },
        "id": "KEMo7BslP5V-",
        "outputId": "8eb8cb2b-4658-4c22-be33-102ea69e5d93"
      },
      "execution_count": 9,
      "outputs": [
        {
          "output_type": "stream",
          "name": "stdout",
          "text": [
            "The shape of the dataset is: (229, 20)\n"
          ]
        }
      ]
    },
    {
      "cell_type": "markdown",
      "source": [
        "## * The file contains 229 rows and 20 columns\n"
      ],
      "metadata": {
        "id": "JmcLJuqFT-H1"
      }
    },
    {
      "cell_type": "markdown",
      "source": [
        "### 2- Display first few rows "
      ],
      "metadata": {
        "id": "_n0SGMpIQMCL"
      }
    },
    {
      "cell_type": "code",
      "source": [
        "df.head()"
      ],
      "metadata": {
        "colab": {
          "base_uri": "https://localhost:8080/",
          "height": 444
        },
        "id": "p3PgIJE-QLZP",
        "outputId": "707fc358-01bd-4fa6-f697-e98fad9a5852"
      },
      "execution_count": 10,
      "outputs": [
        {
          "output_type": "execute_result",
          "data": {
            "text/plain": [
              "           Country                               Region  Population  \\\n",
              "0     Afghanistan         ASIA (EX. NEAR EAST)             31056997   \n",
              "1         Albania   EASTERN EUROPE                          3581655   \n",
              "2         Algeria   NORTHERN AFRICA                        32930091   \n",
              "3  American Samoa   OCEANIA                                   57794   \n",
              "4         Andorra   WESTERN EUROPE                            71201   \n",
              "\n",
              "   Area (sq. mi.)  Pop. Density (per sq. mi.)  Coastline (coast/area ratio)  \\\n",
              "0          647500                        48.0                          0.00   \n",
              "1           28748                       124.6                          1.26   \n",
              "2         2381740                        13.8                          0.04   \n",
              "3             199                       290.4                         58.29   \n",
              "4             468                       152.1                          0.00   \n",
              "\n",
              "   Net migration  Infant mortality (per 1000 births)  GDP ($ per capita)  \\\n",
              "0          23.06                              163.07               700.0   \n",
              "1          -4.93                               21.52              4500.0   \n",
              "2          -0.39                               31.00              6000.0   \n",
              "3         -20.71                                9.27              8000.0   \n",
              "4           6.60                                4.05             19000.0   \n",
              "\n",
              "   Literacy (%)  Phones (per 1000)  Arable (%)  Crops (%)  Other (%)  Climate  \\\n",
              "0          36.0                3.2       12.13       0.22      87.65      1.0   \n",
              "1          86.5               71.2       21.09       4.42      74.49      3.0   \n",
              "2          70.0               78.1        3.22       0.25      96.53      1.0   \n",
              "3          97.0              259.5       10.00      15.00      75.00      2.0   \n",
              "4         100.0              497.2        2.22       0.00      97.78      3.0   \n",
              "\n",
              "   Birthrate  Deathrate  Agriculture  Industry  Service  \n",
              "0      46.60      20.34         0.38      0.24     0.38  \n",
              "1      15.11       5.22       232.00    188.00   579.00  \n",
              "2      17.14       4.61       101.00      0.60   298.00  \n",
              "3      22.46       3.27          NaN       NaN      NaN  \n",
              "4       8.71       6.25          NaN       NaN      NaN  "
            ],
            "text/html": [
              "\n",
              "  <div id=\"df-e9284bf1-abd3-4eb5-a83f-a6dfd3be713f\">\n",
              "    <div class=\"colab-df-container\">\n",
              "      <div>\n",
              "<style scoped>\n",
              "    .dataframe tbody tr th:only-of-type {\n",
              "        vertical-align: middle;\n",
              "    }\n",
              "\n",
              "    .dataframe tbody tr th {\n",
              "        vertical-align: top;\n",
              "    }\n",
              "\n",
              "    .dataframe thead th {\n",
              "        text-align: right;\n",
              "    }\n",
              "</style>\n",
              "<table border=\"1\" class=\"dataframe\">\n",
              "  <thead>\n",
              "    <tr style=\"text-align: right;\">\n",
              "      <th></th>\n",
              "      <th>Country</th>\n",
              "      <th>Region</th>\n",
              "      <th>Population</th>\n",
              "      <th>Area (sq. mi.)</th>\n",
              "      <th>Pop. Density (per sq. mi.)</th>\n",
              "      <th>Coastline (coast/area ratio)</th>\n",
              "      <th>Net migration</th>\n",
              "      <th>Infant mortality (per 1000 births)</th>\n",
              "      <th>GDP ($ per capita)</th>\n",
              "      <th>Literacy (%)</th>\n",
              "      <th>Phones (per 1000)</th>\n",
              "      <th>Arable (%)</th>\n",
              "      <th>Crops (%)</th>\n",
              "      <th>Other (%)</th>\n",
              "      <th>Climate</th>\n",
              "      <th>Birthrate</th>\n",
              "      <th>Deathrate</th>\n",
              "      <th>Agriculture</th>\n",
              "      <th>Industry</th>\n",
              "      <th>Service</th>\n",
              "    </tr>\n",
              "  </thead>\n",
              "  <tbody>\n",
              "    <tr>\n",
              "      <th>0</th>\n",
              "      <td>Afghanistan</td>\n",
              "      <td>ASIA (EX. NEAR EAST)</td>\n",
              "      <td>31056997</td>\n",
              "      <td>647500</td>\n",
              "      <td>48.0</td>\n",
              "      <td>0.00</td>\n",
              "      <td>23.06</td>\n",
              "      <td>163.07</td>\n",
              "      <td>700.0</td>\n",
              "      <td>36.0</td>\n",
              "      <td>3.2</td>\n",
              "      <td>12.13</td>\n",
              "      <td>0.22</td>\n",
              "      <td>87.65</td>\n",
              "      <td>1.0</td>\n",
              "      <td>46.60</td>\n",
              "      <td>20.34</td>\n",
              "      <td>0.38</td>\n",
              "      <td>0.24</td>\n",
              "      <td>0.38</td>\n",
              "    </tr>\n",
              "    <tr>\n",
              "      <th>1</th>\n",
              "      <td>Albania</td>\n",
              "      <td>EASTERN EUROPE</td>\n",
              "      <td>3581655</td>\n",
              "      <td>28748</td>\n",
              "      <td>124.6</td>\n",
              "      <td>1.26</td>\n",
              "      <td>-4.93</td>\n",
              "      <td>21.52</td>\n",
              "      <td>4500.0</td>\n",
              "      <td>86.5</td>\n",
              "      <td>71.2</td>\n",
              "      <td>21.09</td>\n",
              "      <td>4.42</td>\n",
              "      <td>74.49</td>\n",
              "      <td>3.0</td>\n",
              "      <td>15.11</td>\n",
              "      <td>5.22</td>\n",
              "      <td>232.00</td>\n",
              "      <td>188.00</td>\n",
              "      <td>579.00</td>\n",
              "    </tr>\n",
              "    <tr>\n",
              "      <th>2</th>\n",
              "      <td>Algeria</td>\n",
              "      <td>NORTHERN AFRICA</td>\n",
              "      <td>32930091</td>\n",
              "      <td>2381740</td>\n",
              "      <td>13.8</td>\n",
              "      <td>0.04</td>\n",
              "      <td>-0.39</td>\n",
              "      <td>31.00</td>\n",
              "      <td>6000.0</td>\n",
              "      <td>70.0</td>\n",
              "      <td>78.1</td>\n",
              "      <td>3.22</td>\n",
              "      <td>0.25</td>\n",
              "      <td>96.53</td>\n",
              "      <td>1.0</td>\n",
              "      <td>17.14</td>\n",
              "      <td>4.61</td>\n",
              "      <td>101.00</td>\n",
              "      <td>0.60</td>\n",
              "      <td>298.00</td>\n",
              "    </tr>\n",
              "    <tr>\n",
              "      <th>3</th>\n",
              "      <td>American Samoa</td>\n",
              "      <td>OCEANIA</td>\n",
              "      <td>57794</td>\n",
              "      <td>199</td>\n",
              "      <td>290.4</td>\n",
              "      <td>58.29</td>\n",
              "      <td>-20.71</td>\n",
              "      <td>9.27</td>\n",
              "      <td>8000.0</td>\n",
              "      <td>97.0</td>\n",
              "      <td>259.5</td>\n",
              "      <td>10.00</td>\n",
              "      <td>15.00</td>\n",
              "      <td>75.00</td>\n",
              "      <td>2.0</td>\n",
              "      <td>22.46</td>\n",
              "      <td>3.27</td>\n",
              "      <td>NaN</td>\n",
              "      <td>NaN</td>\n",
              "      <td>NaN</td>\n",
              "    </tr>\n",
              "    <tr>\n",
              "      <th>4</th>\n",
              "      <td>Andorra</td>\n",
              "      <td>WESTERN EUROPE</td>\n",
              "      <td>71201</td>\n",
              "      <td>468</td>\n",
              "      <td>152.1</td>\n",
              "      <td>0.00</td>\n",
              "      <td>6.60</td>\n",
              "      <td>4.05</td>\n",
              "      <td>19000.0</td>\n",
              "      <td>100.0</td>\n",
              "      <td>497.2</td>\n",
              "      <td>2.22</td>\n",
              "      <td>0.00</td>\n",
              "      <td>97.78</td>\n",
              "      <td>3.0</td>\n",
              "      <td>8.71</td>\n",
              "      <td>6.25</td>\n",
              "      <td>NaN</td>\n",
              "      <td>NaN</td>\n",
              "      <td>NaN</td>\n",
              "    </tr>\n",
              "  </tbody>\n",
              "</table>\n",
              "</div>\n",
              "      <button class=\"colab-df-convert\" onclick=\"convertToInteractive('df-e9284bf1-abd3-4eb5-a83f-a6dfd3be713f')\"\n",
              "              title=\"Convert this dataframe to an interactive table.\"\n",
              "              style=\"display:none;\">\n",
              "        \n",
              "  <svg xmlns=\"http://www.w3.org/2000/svg\" height=\"24px\"viewBox=\"0 0 24 24\"\n",
              "       width=\"24px\">\n",
              "    <path d=\"M0 0h24v24H0V0z\" fill=\"none\"/>\n",
              "    <path d=\"M18.56 5.44l.94 2.06.94-2.06 2.06-.94-2.06-.94-.94-2.06-.94 2.06-2.06.94zm-11 1L8.5 8.5l.94-2.06 2.06-.94-2.06-.94L8.5 2.5l-.94 2.06-2.06.94zm10 10l.94 2.06.94-2.06 2.06-.94-2.06-.94-.94-2.06-.94 2.06-2.06.94z\"/><path d=\"M17.41 7.96l-1.37-1.37c-.4-.4-.92-.59-1.43-.59-.52 0-1.04.2-1.43.59L10.3 9.45l-7.72 7.72c-.78.78-.78 2.05 0 2.83L4 21.41c.39.39.9.59 1.41.59.51 0 1.02-.2 1.41-.59l7.78-7.78 2.81-2.81c.8-.78.8-2.07 0-2.86zM5.41 20L4 18.59l7.72-7.72 1.47 1.35L5.41 20z\"/>\n",
              "  </svg>\n",
              "      </button>\n",
              "      \n",
              "  <style>\n",
              "    .colab-df-container {\n",
              "      display:flex;\n",
              "      flex-wrap:wrap;\n",
              "      gap: 12px;\n",
              "    }\n",
              "\n",
              "    .colab-df-convert {\n",
              "      background-color: #E8F0FE;\n",
              "      border: none;\n",
              "      border-radius: 50%;\n",
              "      cursor: pointer;\n",
              "      display: none;\n",
              "      fill: #1967D2;\n",
              "      height: 32px;\n",
              "      padding: 0 0 0 0;\n",
              "      width: 32px;\n",
              "    }\n",
              "\n",
              "    .colab-df-convert:hover {\n",
              "      background-color: #E2EBFA;\n",
              "      box-shadow: 0px 1px 2px rgba(60, 64, 67, 0.3), 0px 1px 3px 1px rgba(60, 64, 67, 0.15);\n",
              "      fill: #174EA6;\n",
              "    }\n",
              "\n",
              "    [theme=dark] .colab-df-convert {\n",
              "      background-color: #3B4455;\n",
              "      fill: #D2E3FC;\n",
              "    }\n",
              "\n",
              "    [theme=dark] .colab-df-convert:hover {\n",
              "      background-color: #434B5C;\n",
              "      box-shadow: 0px 1px 3px 1px rgba(0, 0, 0, 0.15);\n",
              "      filter: drop-shadow(0px 1px 2px rgba(0, 0, 0, 0.3));\n",
              "      fill: #FFFFFF;\n",
              "    }\n",
              "  </style>\n",
              "\n",
              "      <script>\n",
              "        const buttonEl =\n",
              "          document.querySelector('#df-e9284bf1-abd3-4eb5-a83f-a6dfd3be713f button.colab-df-convert');\n",
              "        buttonEl.style.display =\n",
              "          google.colab.kernel.accessAllowed ? 'block' : 'none';\n",
              "\n",
              "        async function convertToInteractive(key) {\n",
              "          const element = document.querySelector('#df-e9284bf1-abd3-4eb5-a83f-a6dfd3be713f');\n",
              "          const dataTable =\n",
              "            await google.colab.kernel.invokeFunction('convertToInteractive',\n",
              "                                                     [key], {});\n",
              "          if (!dataTable) return;\n",
              "\n",
              "          const docLinkHtml = 'Like what you see? Visit the ' +\n",
              "            '<a target=\"_blank\" href=https://colab.research.google.com/notebooks/data_table.ipynb>data table notebook</a>'\n",
              "            + ' to learn more about interactive tables.';\n",
              "          element.innerHTML = '';\n",
              "          dataTable['output_type'] = 'display_data';\n",
              "          await google.colab.output.renderOutput(dataTable, element);\n",
              "          const docLink = document.createElement('div');\n",
              "          docLink.innerHTML = docLinkHtml;\n",
              "          element.appendChild(docLink);\n",
              "        }\n",
              "      </script>\n",
              "    </div>\n",
              "  </div>\n",
              "  "
            ]
          },
          "metadata": {},
          "execution_count": 10
        }
      ]
    },
    {
      "cell_type": "markdown",
      "source": [
        "### 3- Search for empty rows in each column "
      ],
      "metadata": {
        "id": "0hEU2sVsQRkT"
      }
    },
    {
      "cell_type": "code",
      "source": [
        "df.info()"
      ],
      "metadata": {
        "colab": {
          "base_uri": "https://localhost:8080/"
        },
        "id": "fb9ANh_5QYQv",
        "outputId": "3f4105d8-e033-4a04-f902-6a07cd5e31c5"
      },
      "execution_count": 11,
      "outputs": [
        {
          "output_type": "stream",
          "name": "stdout",
          "text": [
            "<class 'pandas.core.frame.DataFrame'>\n",
            "RangeIndex: 229 entries, 0 to 228\n",
            "Data columns (total 20 columns):\n",
            " #   Column                              Non-Null Count  Dtype  \n",
            "---  ------                              --------------  -----  \n",
            " 0   Country                             229 non-null    object \n",
            " 1   Region                              229 non-null    object \n",
            " 2   Population                          229 non-null    int64  \n",
            " 3   Area (sq. mi.)                      229 non-null    int64  \n",
            " 4   Pop. Density (per sq. mi.)          229 non-null    float64\n",
            " 5   Coastline (coast/area ratio)        229 non-null    float64\n",
            " 6   Net migration                       226 non-null    float64\n",
            " 7   Infant mortality (per 1000 births)  226 non-null    float64\n",
            " 8   GDP ($ per capita)                  228 non-null    float64\n",
            " 9   Literacy (%)                        211 non-null    float64\n",
            " 10  Phones (per 1000)                   225 non-null    float64\n",
            " 11  Arable (%)                          227 non-null    float64\n",
            " 12  Crops (%)                           227 non-null    float64\n",
            " 13  Other (%)                           227 non-null    float64\n",
            " 14  Climate                             207 non-null    float64\n",
            " 15  Birthrate                           226 non-null    float64\n",
            " 16  Deathrate                           225 non-null    float64\n",
            " 17  Agriculture                         214 non-null    float64\n",
            " 18  Industry                            213 non-null    float64\n",
            " 19  Service                             214 non-null    float64\n",
            "dtypes: float64(16), int64(2), object(2)\n",
            "memory usage: 35.9+ KB\n"
          ]
        }
      ]
    },
    {
      "cell_type": "code",
      "source": [
        "round(df.isnull().sum(axis=0)*100/df.shape[0],2)"
      ],
      "metadata": {
        "colab": {
          "base_uri": "https://localhost:8080/"
        },
        "id": "tVkuaWZ1QeO1",
        "outputId": "ad41cee8-5c97-4043-a7d3-013cc9b5d9d1"
      },
      "execution_count": 12,
      "outputs": [
        {
          "output_type": "execute_result",
          "data": {
            "text/plain": [
              "Country                               0.00\n",
              "Region                                0.00\n",
              "Population                            0.00\n",
              "Area (sq. mi.)                        0.00\n",
              "Pop. Density (per sq. mi.)            0.00\n",
              "Coastline (coast/area ratio)          0.00\n",
              "Net migration                         1.31\n",
              "Infant mortality (per 1000 births)    1.31\n",
              "GDP ($ per capita)                    0.44\n",
              "Literacy (%)                          7.86\n",
              "Phones (per 1000)                     1.75\n",
              "Arable (%)                            0.87\n",
              "Crops (%)                             0.87\n",
              "Other (%)                             0.87\n",
              "Climate                               9.61\n",
              "Birthrate                             1.31\n",
              "Deathrate                             1.75\n",
              "Agriculture                           6.55\n",
              "Industry                              6.99\n",
              "Service                               6.55\n",
              "dtype: float64"
            ]
          },
          "metadata": {},
          "execution_count": 12
        }
      ]
    },
    {
      "cell_type": "markdown",
      "source": [
        "### 4- Find duplicated rows for each column"
      ],
      "metadata": {
        "id": "nxxOi_p1Qizi"
      }
    },
    {
      "cell_type": "code",
      "source": [
        "df[df.duplicated()]"
      ],
      "metadata": {
        "colab": {
          "base_uri": "https://localhost:8080/",
          "height": 280
        },
        "id": "6X2733cmQmlw",
        "outputId": "4cd43cd2-bf93-481b-d747-18d2a9a6e82d"
      },
      "execution_count": 15,
      "outputs": [
        {
          "output_type": "execute_result",
          "data": {
            "text/plain": [
              "               Country                               Region  Population  \\\n",
              "132         Australia   OCEANIA                                20264082   \n",
              "228  Papua New Guinea   OCEANIA                                 5670544   \n",
              "\n",
              "     Area (sq. mi.)  Pop. Density (per sq. mi.)  Coastline (coast/area ratio)  \\\n",
              "132         7686850                         2.6                          0.34   \n",
              "228          462840                        12.3                          1.11   \n",
              "\n",
              "     Net migration  Infant mortality (per 1000 births)  GDP ($ per capita)  \\\n",
              "132           3.98                                4.69             29000.0   \n",
              "228           0.00                               51.45              2200.0   \n",
              "\n",
              "     Literacy (%)  Phones (per 1000)  Arable (%)  Crops (%)  Other (%)  \\\n",
              "132         100.0              565.5        6.55       0.04      93.41   \n",
              "228          64.6               10.9        0.46       1.44      98.10   \n",
              "\n",
              "     Climate  Birthrate  Deathrate  Agriculture  Industry  Service  \n",
              "132      1.0      12.14       7.51         38.0     262.0      0.7  \n",
              "228      2.0      29.36       7.25        353.0     381.0    266.0  "
            ],
            "text/html": [
              "\n",
              "  <div id=\"df-268fea61-9427-4b83-9b1b-7a0aa191c536\">\n",
              "    <div class=\"colab-df-container\">\n",
              "      <div>\n",
              "<style scoped>\n",
              "    .dataframe tbody tr th:only-of-type {\n",
              "        vertical-align: middle;\n",
              "    }\n",
              "\n",
              "    .dataframe tbody tr th {\n",
              "        vertical-align: top;\n",
              "    }\n",
              "\n",
              "    .dataframe thead th {\n",
              "        text-align: right;\n",
              "    }\n",
              "</style>\n",
              "<table border=\"1\" class=\"dataframe\">\n",
              "  <thead>\n",
              "    <tr style=\"text-align: right;\">\n",
              "      <th></th>\n",
              "      <th>Country</th>\n",
              "      <th>Region</th>\n",
              "      <th>Population</th>\n",
              "      <th>Area (sq. mi.)</th>\n",
              "      <th>Pop. Density (per sq. mi.)</th>\n",
              "      <th>Coastline (coast/area ratio)</th>\n",
              "      <th>Net migration</th>\n",
              "      <th>Infant mortality (per 1000 births)</th>\n",
              "      <th>GDP ($ per capita)</th>\n",
              "      <th>Literacy (%)</th>\n",
              "      <th>Phones (per 1000)</th>\n",
              "      <th>Arable (%)</th>\n",
              "      <th>Crops (%)</th>\n",
              "      <th>Other (%)</th>\n",
              "      <th>Climate</th>\n",
              "      <th>Birthrate</th>\n",
              "      <th>Deathrate</th>\n",
              "      <th>Agriculture</th>\n",
              "      <th>Industry</th>\n",
              "      <th>Service</th>\n",
              "    </tr>\n",
              "  </thead>\n",
              "  <tbody>\n",
              "    <tr>\n",
              "      <th>132</th>\n",
              "      <td>Australia</td>\n",
              "      <td>OCEANIA</td>\n",
              "      <td>20264082</td>\n",
              "      <td>7686850</td>\n",
              "      <td>2.6</td>\n",
              "      <td>0.34</td>\n",
              "      <td>3.98</td>\n",
              "      <td>4.69</td>\n",
              "      <td>29000.0</td>\n",
              "      <td>100.0</td>\n",
              "      <td>565.5</td>\n",
              "      <td>6.55</td>\n",
              "      <td>0.04</td>\n",
              "      <td>93.41</td>\n",
              "      <td>1.0</td>\n",
              "      <td>12.14</td>\n",
              "      <td>7.51</td>\n",
              "      <td>38.0</td>\n",
              "      <td>262.0</td>\n",
              "      <td>0.7</td>\n",
              "    </tr>\n",
              "    <tr>\n",
              "      <th>228</th>\n",
              "      <td>Papua New Guinea</td>\n",
              "      <td>OCEANIA</td>\n",
              "      <td>5670544</td>\n",
              "      <td>462840</td>\n",
              "      <td>12.3</td>\n",
              "      <td>1.11</td>\n",
              "      <td>0.00</td>\n",
              "      <td>51.45</td>\n",
              "      <td>2200.0</td>\n",
              "      <td>64.6</td>\n",
              "      <td>10.9</td>\n",
              "      <td>0.46</td>\n",
              "      <td>1.44</td>\n",
              "      <td>98.10</td>\n",
              "      <td>2.0</td>\n",
              "      <td>29.36</td>\n",
              "      <td>7.25</td>\n",
              "      <td>353.0</td>\n",
              "      <td>381.0</td>\n",
              "      <td>266.0</td>\n",
              "    </tr>\n",
              "  </tbody>\n",
              "</table>\n",
              "</div>\n",
              "      <button class=\"colab-df-convert\" onclick=\"convertToInteractive('df-268fea61-9427-4b83-9b1b-7a0aa191c536')\"\n",
              "              title=\"Convert this dataframe to an interactive table.\"\n",
              "              style=\"display:none;\">\n",
              "        \n",
              "  <svg xmlns=\"http://www.w3.org/2000/svg\" height=\"24px\"viewBox=\"0 0 24 24\"\n",
              "       width=\"24px\">\n",
              "    <path d=\"M0 0h24v24H0V0z\" fill=\"none\"/>\n",
              "    <path d=\"M18.56 5.44l.94 2.06.94-2.06 2.06-.94-2.06-.94-.94-2.06-.94 2.06-2.06.94zm-11 1L8.5 8.5l.94-2.06 2.06-.94-2.06-.94L8.5 2.5l-.94 2.06-2.06.94zm10 10l.94 2.06.94-2.06 2.06-.94-2.06-.94-.94-2.06-.94 2.06-2.06.94z\"/><path d=\"M17.41 7.96l-1.37-1.37c-.4-.4-.92-.59-1.43-.59-.52 0-1.04.2-1.43.59L10.3 9.45l-7.72 7.72c-.78.78-.78 2.05 0 2.83L4 21.41c.39.39.9.59 1.41.59.51 0 1.02-.2 1.41-.59l7.78-7.78 2.81-2.81c.8-.78.8-2.07 0-2.86zM5.41 20L4 18.59l7.72-7.72 1.47 1.35L5.41 20z\"/>\n",
              "  </svg>\n",
              "      </button>\n",
              "      \n",
              "  <style>\n",
              "    .colab-df-container {\n",
              "      display:flex;\n",
              "      flex-wrap:wrap;\n",
              "      gap: 12px;\n",
              "    }\n",
              "\n",
              "    .colab-df-convert {\n",
              "      background-color: #E8F0FE;\n",
              "      border: none;\n",
              "      border-radius: 50%;\n",
              "      cursor: pointer;\n",
              "      display: none;\n",
              "      fill: #1967D2;\n",
              "      height: 32px;\n",
              "      padding: 0 0 0 0;\n",
              "      width: 32px;\n",
              "    }\n",
              "\n",
              "    .colab-df-convert:hover {\n",
              "      background-color: #E2EBFA;\n",
              "      box-shadow: 0px 1px 2px rgba(60, 64, 67, 0.3), 0px 1px 3px 1px rgba(60, 64, 67, 0.15);\n",
              "      fill: #174EA6;\n",
              "    }\n",
              "\n",
              "    [theme=dark] .colab-df-convert {\n",
              "      background-color: #3B4455;\n",
              "      fill: #D2E3FC;\n",
              "    }\n",
              "\n",
              "    [theme=dark] .colab-df-convert:hover {\n",
              "      background-color: #434B5C;\n",
              "      box-shadow: 0px 1px 3px 1px rgba(0, 0, 0, 0.15);\n",
              "      filter: drop-shadow(0px 1px 2px rgba(0, 0, 0, 0.3));\n",
              "      fill: #FFFFFF;\n",
              "    }\n",
              "  </style>\n",
              "\n",
              "      <script>\n",
              "        const buttonEl =\n",
              "          document.querySelector('#df-268fea61-9427-4b83-9b1b-7a0aa191c536 button.colab-df-convert');\n",
              "        buttonEl.style.display =\n",
              "          google.colab.kernel.accessAllowed ? 'block' : 'none';\n",
              "\n",
              "        async function convertToInteractive(key) {\n",
              "          const element = document.querySelector('#df-268fea61-9427-4b83-9b1b-7a0aa191c536');\n",
              "          const dataTable =\n",
              "            await google.colab.kernel.invokeFunction('convertToInteractive',\n",
              "                                                     [key], {});\n",
              "          if (!dataTable) return;\n",
              "\n",
              "          const docLinkHtml = 'Like what you see? Visit the ' +\n",
              "            '<a target=\"_blank\" href=https://colab.research.google.com/notebooks/data_table.ipynb>data table notebook</a>'\n",
              "            + ' to learn more about interactive tables.';\n",
              "          element.innerHTML = '';\n",
              "          dataTable['output_type'] = 'display_data';\n",
              "          await google.colab.output.renderOutput(dataTable, element);\n",
              "          const docLink = document.createElement('div');\n",
              "          docLink.innerHTML = docLinkHtml;\n",
              "          element.appendChild(docLink);\n",
              "        }\n",
              "      </script>\n",
              "    </div>\n",
              "  </div>\n",
              "  "
            ]
          },
          "metadata": {},
          "execution_count": 15
        }
      ]
    },
    {
      "cell_type": "markdown",
      "source": [
        "## * File contains 2 duplicated rows"
      ],
      "metadata": {
        "id": "ef01mE4ZUZub"
      }
    },
    {
      "cell_type": "markdown",
      "source": [
        "### 5- Fill empty rows of numerical data with median"
      ],
      "metadata": {
        "id": "5QhzM8L5R_9D"
      }
    },
    {
      "cell_type": "code",
      "source": [
        "null_cols = ['Net migration', 'Infant mortality (per 1000 births)', 'GDP ($ per capita)', 'Literacy (%)', 'Phones (per 1000)', 'Arable (%)', 'Crops (%)' ,'Other (%)' ,'Climate' ,'Birthrate', 'Deathrate', 'Agriculture', 'Industry', 'Service']\n",
        "for c in null_cols:\n",
        "    df[c].fillna(df[c].median(), inplace=True)"
      ],
      "metadata": {
        "id": "1ngh7NIvSFtY"
      },
      "execution_count": 18,
      "outputs": []
    },
    {
      "cell_type": "markdown",
      "source": [
        "### 6- Validate that empty rows are filled"
      ],
      "metadata": {
        "id": "IAnDWZitSTv4"
      }
    },
    {
      "cell_type": "code",
      "source": [
        "df.info()"
      ],
      "metadata": {
        "colab": {
          "base_uri": "https://localhost:8080/"
        },
        "id": "9FprC7NgScFo",
        "outputId": "4a5fe8d2-0a32-4402-883f-e1ac1c0fb9be"
      },
      "execution_count": 19,
      "outputs": [
        {
          "output_type": "stream",
          "name": "stdout",
          "text": [
            "<class 'pandas.core.frame.DataFrame'>\n",
            "RangeIndex: 229 entries, 0 to 228\n",
            "Data columns (total 20 columns):\n",
            " #   Column                              Non-Null Count  Dtype  \n",
            "---  ------                              --------------  -----  \n",
            " 0   Country                             229 non-null    object \n",
            " 1   Region                              229 non-null    object \n",
            " 2   Population                          229 non-null    int64  \n",
            " 3   Area (sq. mi.)                      229 non-null    int64  \n",
            " 4   Pop. Density (per sq. mi.)          229 non-null    float64\n",
            " 5   Coastline (coast/area ratio)        229 non-null    float64\n",
            " 6   Net migration                       229 non-null    float64\n",
            " 7   Infant mortality (per 1000 births)  229 non-null    float64\n",
            " 8   GDP ($ per capita)                  229 non-null    float64\n",
            " 9   Literacy (%)                        229 non-null    float64\n",
            " 10  Phones (per 1000)                   229 non-null    float64\n",
            " 11  Arable (%)                          229 non-null    float64\n",
            " 12  Crops (%)                           229 non-null    float64\n",
            " 13  Other (%)                           229 non-null    float64\n",
            " 14  Climate                             229 non-null    float64\n",
            " 15  Birthrate                           229 non-null    float64\n",
            " 16  Deathrate                           229 non-null    float64\n",
            " 17  Agriculture                         229 non-null    float64\n",
            " 18  Industry                            229 non-null    float64\n",
            " 19  Service                             229 non-null    float64\n",
            "dtypes: float64(16), int64(2), object(2)\n",
            "memory usage: 35.9+ KB\n"
          ]
        }
      ]
    },
    {
      "cell_type": "markdown",
      "source": [
        "## * Empty numerical cells are filled with median"
      ],
      "metadata": {
        "id": "12BvlFnOVU6X"
      }
    },
    {
      "cell_type": "markdown",
      "source": [
        "### 7- Remove duplicates"
      ],
      "metadata": {
        "id": "Jr0UhcGTVduK"
      }
    },
    {
      "cell_type": "code",
      "source": [
        "df.drop_duplicates(inplace =True)"
      ],
      "metadata": {
        "id": "g5IkC1ZwWf71"
      },
      "execution_count": 21,
      "outputs": []
    },
    {
      "cell_type": "markdown",
      "source": [
        "8- Validate that file contain no duplicates "
      ],
      "metadata": {
        "id": "71Twd4PuWxzb"
      }
    },
    {
      "cell_type": "code",
      "source": [
        "df[df.duplicated()]"
      ],
      "metadata": {
        "colab": {
          "base_uri": "https://localhost:8080/",
          "height": 183
        },
        "id": "4_OCO59CWrce",
        "outputId": "cdf23609-fe9c-419f-8186-f7573c8cf503"
      },
      "execution_count": 22,
      "outputs": [
        {
          "output_type": "execute_result",
          "data": {
            "text/plain": [
              "Empty DataFrame\n",
              "Columns: [Country, Region, Population, Area (sq. mi.), Pop. Density (per sq. mi.), Coastline (coast/area ratio), Net migration, Infant mortality (per 1000 births), GDP ($ per capita), Literacy (%), Phones (per 1000), Arable (%), Crops (%), Other (%), Climate, Birthrate, Deathrate, Agriculture, Industry, Service]\n",
              "Index: []"
            ],
            "text/html": [
              "\n",
              "  <div id=\"df-b8fc62bb-ed76-479e-8931-72380c165550\">\n",
              "    <div class=\"colab-df-container\">\n",
              "      <div>\n",
              "<style scoped>\n",
              "    .dataframe tbody tr th:only-of-type {\n",
              "        vertical-align: middle;\n",
              "    }\n",
              "\n",
              "    .dataframe tbody tr th {\n",
              "        vertical-align: top;\n",
              "    }\n",
              "\n",
              "    .dataframe thead th {\n",
              "        text-align: right;\n",
              "    }\n",
              "</style>\n",
              "<table border=\"1\" class=\"dataframe\">\n",
              "  <thead>\n",
              "    <tr style=\"text-align: right;\">\n",
              "      <th></th>\n",
              "      <th>Country</th>\n",
              "      <th>Region</th>\n",
              "      <th>Population</th>\n",
              "      <th>Area (sq. mi.)</th>\n",
              "      <th>Pop. Density (per sq. mi.)</th>\n",
              "      <th>Coastline (coast/area ratio)</th>\n",
              "      <th>Net migration</th>\n",
              "      <th>Infant mortality (per 1000 births)</th>\n",
              "      <th>GDP ($ per capita)</th>\n",
              "      <th>Literacy (%)</th>\n",
              "      <th>Phones (per 1000)</th>\n",
              "      <th>Arable (%)</th>\n",
              "      <th>Crops (%)</th>\n",
              "      <th>Other (%)</th>\n",
              "      <th>Climate</th>\n",
              "      <th>Birthrate</th>\n",
              "      <th>Deathrate</th>\n",
              "      <th>Agriculture</th>\n",
              "      <th>Industry</th>\n",
              "      <th>Service</th>\n",
              "    </tr>\n",
              "  </thead>\n",
              "  <tbody>\n",
              "  </tbody>\n",
              "</table>\n",
              "</div>\n",
              "      <button class=\"colab-df-convert\" onclick=\"convertToInteractive('df-b8fc62bb-ed76-479e-8931-72380c165550')\"\n",
              "              title=\"Convert this dataframe to an interactive table.\"\n",
              "              style=\"display:none;\">\n",
              "        \n",
              "  <svg xmlns=\"http://www.w3.org/2000/svg\" height=\"24px\"viewBox=\"0 0 24 24\"\n",
              "       width=\"24px\">\n",
              "    <path d=\"M0 0h24v24H0V0z\" fill=\"none\"/>\n",
              "    <path d=\"M18.56 5.44l.94 2.06.94-2.06 2.06-.94-2.06-.94-.94-2.06-.94 2.06-2.06.94zm-11 1L8.5 8.5l.94-2.06 2.06-.94-2.06-.94L8.5 2.5l-.94 2.06-2.06.94zm10 10l.94 2.06.94-2.06 2.06-.94-2.06-.94-.94-2.06-.94 2.06-2.06.94z\"/><path d=\"M17.41 7.96l-1.37-1.37c-.4-.4-.92-.59-1.43-.59-.52 0-1.04.2-1.43.59L10.3 9.45l-7.72 7.72c-.78.78-.78 2.05 0 2.83L4 21.41c.39.39.9.59 1.41.59.51 0 1.02-.2 1.41-.59l7.78-7.78 2.81-2.81c.8-.78.8-2.07 0-2.86zM5.41 20L4 18.59l7.72-7.72 1.47 1.35L5.41 20z\"/>\n",
              "  </svg>\n",
              "      </button>\n",
              "      \n",
              "  <style>\n",
              "    .colab-df-container {\n",
              "      display:flex;\n",
              "      flex-wrap:wrap;\n",
              "      gap: 12px;\n",
              "    }\n",
              "\n",
              "    .colab-df-convert {\n",
              "      background-color: #E8F0FE;\n",
              "      border: none;\n",
              "      border-radius: 50%;\n",
              "      cursor: pointer;\n",
              "      display: none;\n",
              "      fill: #1967D2;\n",
              "      height: 32px;\n",
              "      padding: 0 0 0 0;\n",
              "      width: 32px;\n",
              "    }\n",
              "\n",
              "    .colab-df-convert:hover {\n",
              "      background-color: #E2EBFA;\n",
              "      box-shadow: 0px 1px 2px rgba(60, 64, 67, 0.3), 0px 1px 3px 1px rgba(60, 64, 67, 0.15);\n",
              "      fill: #174EA6;\n",
              "    }\n",
              "\n",
              "    [theme=dark] .colab-df-convert {\n",
              "      background-color: #3B4455;\n",
              "      fill: #D2E3FC;\n",
              "    }\n",
              "\n",
              "    [theme=dark] .colab-df-convert:hover {\n",
              "      background-color: #434B5C;\n",
              "      box-shadow: 0px 1px 3px 1px rgba(0, 0, 0, 0.15);\n",
              "      filter: drop-shadow(0px 1px 2px rgba(0, 0, 0, 0.3));\n",
              "      fill: #FFFFFF;\n",
              "    }\n",
              "  </style>\n",
              "\n",
              "      <script>\n",
              "        const buttonEl =\n",
              "          document.querySelector('#df-b8fc62bb-ed76-479e-8931-72380c165550 button.colab-df-convert');\n",
              "        buttonEl.style.display =\n",
              "          google.colab.kernel.accessAllowed ? 'block' : 'none';\n",
              "\n",
              "        async function convertToInteractive(key) {\n",
              "          const element = document.querySelector('#df-b8fc62bb-ed76-479e-8931-72380c165550');\n",
              "          const dataTable =\n",
              "            await google.colab.kernel.invokeFunction('convertToInteractive',\n",
              "                                                     [key], {});\n",
              "          if (!dataTable) return;\n",
              "\n",
              "          const docLinkHtml = 'Like what you see? Visit the ' +\n",
              "            '<a target=\"_blank\" href=https://colab.research.google.com/notebooks/data_table.ipynb>data table notebook</a>'\n",
              "            + ' to learn more about interactive tables.';\n",
              "          element.innerHTML = '';\n",
              "          dataTable['output_type'] = 'display_data';\n",
              "          await google.colab.output.renderOutput(dataTable, element);\n",
              "          const docLink = document.createElement('div');\n",
              "          docLink.innerHTML = docLinkHtml;\n",
              "          element.appendChild(docLink);\n",
              "        }\n",
              "      </script>\n",
              "    </div>\n",
              "  </div>\n",
              "  "
            ]
          },
          "metadata": {},
          "execution_count": 22
        }
      ]
    },
    {
      "cell_type": "markdown",
      "source": [
        "## * Duplicates are removed"
      ],
      "metadata": {
        "id": "n8xWfqaQW9y9"
      }
    },
    {
      "cell_type": "markdown",
      "source": [
        "7- Save fixed data in a csv file"
      ],
      "metadata": {
        "id": "4j53BsyvSqM1"
      }
    },
    {
      "cell_type": "code",
      "source": [
        "df.to_csv('fixed_data.csv')"
      ],
      "metadata": {
        "id": "421_SMv_SvqV"
      },
      "execution_count": 23,
      "outputs": []
    },
    {
      "cell_type": "code",
      "source": [
        ""
      ],
      "metadata": {
        "id": "8bjT44DEXCiQ"
      },
      "execution_count": null,
      "outputs": []
    }
  ]
}